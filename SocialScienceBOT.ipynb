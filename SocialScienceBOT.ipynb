{
 "cells": [
  {
   "cell_type": "code",
   "execution_count": 4,
   "metadata": {},
   "outputs": [
    {
     "name": "stdout",
     "output_type": "stream",
     "text": [
      "         Income Education\n",
      "0  54967.141530   Honours\n",
      "1  48617.356988   Honours\n",
      "2  56476.885381   Masters\n",
      "3  65230.298564   Masters\n",
      "4  47658.466253   Honours\n",
      "5  47658.630431       PhD\n",
      "6  65792.128155   Honours\n",
      "7  57674.347292   Masters\n",
      "8  45305.256141   Masters\n",
      "9  55425.600436       PhD\n"
     ]
    }
   ],
   "source": [
    "import numpy as np\n",
    "import pandas as pd\n",
    "\n",
    "# set the random seed for reproducibility\n",
    "np.random.seed(42)\n",
    "\n",
    "# generate random data for income and education\n",
    "Income = np.random.normal(loc=50000, scale=10000, size=1000)\n",
    "education_levels = np.random.choice([1, 2, 3], size=1000, p=[0.4, 0.4, 0.2])\n",
    "\n",
    "# map the education levels to strings\n",
    "Education = np.array(['Honours' if e == 1 else 'Masters' if e == 2 else 'PhD' for e in education_levels])\n",
    "\n",
    "# create a Pandas DataFrame to store the data\n",
    "df = pd.DataFrame({'Income': Income, 'Education': Education})\n",
    "\n",
    "# save the DataFrame to a CSV file\n",
    "df.to_csv('random_data.csv', index=False)\n",
    "\n",
    "# print the first 10 rows of the data\n",
    "print(df.head(10))"
   ]
  },
  {
   "cell_type": "code",
   "execution_count": 5,
   "metadata": {},
   "outputs": [],
   "source": [
    "import pandas as pd\n",
    "import statsmodels.formula.api as smf\n",
    "\n",
    "# Step 1: Define the problem and objectives\n",
    "# Define the social science problem you want to solve, and determine the objectives you want the bot to achieve.\n",
    "problem_description = 'Analyze the relationship between income and education'\n",
    "objectives = ['Determine if there is a statistically significant relationship between income and education', 'Estimate the strength and direction of the relationship', 'Predict income based on education level']\n",
    "\n",
    "# Step 2: Collect and preprocess the data\n",
    "# Collect the data you need, and preprocess it to ensure it is in a format suitable for analysis.\n",
    "#data = pd.read_csv('random_data.csv')\n",
    "# Preprocess the data as necessary, e.g. clean up missing values, remove duplicates, etc.\n",
    "\n",
    "\n",
    "# Step 3: Analyze the data and generate insights\n",
    "# Apply data analysis techniques to the data to generate insights.\n",
    "# Here is an example of analyzing the relationship between income and education:\n",
    "def analyze_data(df):\n",
    "    # Determine if there is a statistically significant relationship between income and education\n",
    "    model = smf.ols('Income ~ Education', data=df).fit()\n",
    "    p_value = model.f_pvalue\n",
    "    if p_value < 0.05:\n",
    "        relationship = 'statistically significant'\n",
    "    else:\n",
    "        relationship = 'not statistically significant'\n",
    "   \n",
    "    # Estimate the strength and direction of the relationship\n",
    "    beta = model.params['Education']\n",
    "    if beta > 0:\n",
    "        direction = 'positive'\n",
    "    else:\n",
    "        direction = 'negative'\n",
    "   \n",
    "    # Predict income based on education level\n",
    "    df['income_predicted'] = model.predict(df['Education'])\n",
    "   \n",
    "    return {'relationship': relationship, 'direction': direction, 'data': df}\n",
    "\n",
    "# Step 4: Generate the report\n",
    "# Use the insights generated in Step 3 to create a report that addresses the objectives.\n",
    "# Here is an example of generating a report from the income and education analysis:\n",
    "def generate_report(data, objectives):\n",
    "    print(df.columns)\n",
    "    insights = analyze_data(df)\n",
    "    report = f'{problem_description}\\n\\n'\n",
    "    for i, obj in enumerate(objectives):\n",
    "        report += f'Objective {i+1}: {obj}\\n'\n",
    "        if i == 0:\n",
    "            report += f'The relationship between income and education is {insights[\"relationship\"]}\\n'\n",
    "        elif i == 1:\n",
    "            report += f'The strength and direction of the relationship is {insights[\"direction\"]}\\n'\n",
    "        elif i == 2:\n",
    "            report += f'Predicted income based on education level:\\n{insights[\"data\"][[\"Education\", \"income_predicted\"]]}'\n",
    "        report += '\\n'\n",
    "    return report\n",
    "\n",
    "# Step 5: Deploy the bot\n",
    "# Deploy the bot to accept objectives and data as input, and generate a report and interpretation as output.\n",
    "# For example, you could create a web interface or other platform to allow users to input objectives and data, and receive a report in return.\n"
   ]
  },
  {
   "cell_type": "code",
   "execution_count": null,
   "metadata": {},
   "outputs": [],
   "source": [
    "from django.shortcuts import render\n",
    "from django.views.decorators.csrf import csrf_exempt\n",
    "import pandas as pd\n",
    "import numpy as np\n",
    "\n",
    "# Load the bot code and model\n",
    "from .SocialScienceBOT import *\n",
    "\n",
    "# Create the bot instance\n",
    "bot = SocialScienceBOT()\n",
    "\n",
    "@csrf_exempt\n",
    "def bot_view(request):\n",
    "    if request.method == 'POST':\n",
    "        # Get the objectives and data from the POST request\n",
    "        objectives = request.POST.get('objectives')\n",
    "        data = request.POST.get('df')\n",
    "\n",
    "        # Convert the data to a pandas dataframe\n",
    "        data = pd.read_csv(df)\n",
    "\n",
    "        # Generate the report and interpretation using the bot\n",
    "        report, interpretation = bot.run(objectives, df)\n",
    "\n",
    "        # Render the template with the report and interpretation\n",
    "        return render(request, 'bot.html', {'report': report, 'interpretation': interpretation})\n",
    "\n",
    "    else:\n",
    "        # Render the template with a form to input the objectives and data\n",
    "        return render(request, 'bot_form.html')"
   ]
  },
  {
   "cell_type": "code",
   "execution_count": 6,
   "metadata": {},
   "outputs": [],
   "source": [
    "from django.http import HttpResponse\n",
    "from django.shortcuts import render\n",
    "\n",
    "def home(request):\n",
    "    return HttpResponse('Hello, World!')"
   ]
  },
  {
   "cell_type": "code",
   "execution_count": 7,
   "metadata": {},
   "outputs": [
    {
     "ename": "ImportError",
     "evalue": "attempted relative import with no known parent package",
     "output_type": "error",
     "traceback": [
      "\u001b[1;31m---------------------------------------------------------------------------\u001b[0m",
      "\u001b[1;31mImportError\u001b[0m                               Traceback (most recent call last)",
      "\u001b[1;32mc:\\Users\\ADMIN\\Desktop\\Work\\iFundi\\S9 Backend coding webserver development\\Django\\testDemo\\ecom\\ecom\\SocialScienceBOT.ipynb Cell 5\u001b[0m in \u001b[0;36m2\n\u001b[0;32m      <a href='vscode-notebook-cell:/c%3A/Users/ADMIN/Desktop/Work/iFundi/S9%20Backend%20coding%20webserver%20development/Django/testDemo/ecom/ecom/SocialScienceBOT.ipynb#X14sZmlsZQ%3D%3D?line=0'>1</a>\u001b[0m \u001b[39mfrom\u001b[39;00m \u001b[39mdjango\u001b[39;00m\u001b[39m.\u001b[39;00m\u001b[39murls\u001b[39;00m \u001b[39mimport\u001b[39;00m path\n\u001b[1;32m----> <a href='vscode-notebook-cell:/c%3A/Users/ADMIN/Desktop/Work/iFundi/S9%20Backend%20coding%20webserver%20development/Django/testDemo/ecom/ecom/SocialScienceBOT.ipynb#X14sZmlsZQ%3D%3D?line=1'>2</a>\u001b[0m \u001b[39mfrom\u001b[39;00m \u001b[39m.\u001b[39;00m\u001b[39mviews\u001b[39;00m \u001b[39mimport\u001b[39;00m bot_view\n\u001b[0;32m      <a href='vscode-notebook-cell:/c%3A/Users/ADMIN/Desktop/Work/iFundi/S9%20Backend%20coding%20webserver%20development/Django/testDemo/ecom/ecom/SocialScienceBOT.ipynb#X14sZmlsZQ%3D%3D?line=3'>4</a>\u001b[0m urlpatterns \u001b[39m=\u001b[39m [\n\u001b[0;32m      <a href='vscode-notebook-cell:/c%3A/Users/ADMIN/Desktop/Work/iFundi/S9%20Backend%20coding%20webserver%20development/Django/testDemo/ecom/ecom/SocialScienceBOT.ipynb#X14sZmlsZQ%3D%3D?line=4'>5</a>\u001b[0m     path(\u001b[39m'\u001b[39m\u001b[39mbot/\u001b[39m\u001b[39m'\u001b[39m, bot_view, name\u001b[39m=\u001b[39m\u001b[39m'\u001b[39m\u001b[39mbot\u001b[39m\u001b[39m'\u001b[39m),\n\u001b[0;32m      <a href='vscode-notebook-cell:/c%3A/Users/ADMIN/Desktop/Work/iFundi/S9%20Backend%20coding%20webserver%20development/Django/testDemo/ecom/ecom/SocialScienceBOT.ipynb#X14sZmlsZQ%3D%3D?line=5'>6</a>\u001b[0m ]\n",
      "\u001b[1;31mImportError\u001b[0m: attempted relative import with no known parent package"
     ]
    }
   ],
   "source": [
    "from django.urls import path\n",
    "from .views import bot_view\n",
    "\n",
    "urlpatterns = [\n",
    "    path('bot/', bot_view, name='bot'),\n",
    "]"
   ]
  }
 ],
 "metadata": {
  "kernelspec": {
   "display_name": "Python 3",
   "language": "python",
   "name": "python3"
  },
  "language_info": {
   "codemirror_mode": {
    "name": "ipython",
    "version": 3
   },
   "file_extension": ".py",
   "mimetype": "text/x-python",
   "name": "python",
   "nbconvert_exporter": "python",
   "pygments_lexer": "ipython3",
   "version": "3.10.7"
  },
  "orig_nbformat": 4
 },
 "nbformat": 4,
 "nbformat_minor": 2
}
